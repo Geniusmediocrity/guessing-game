{
 "cells": [
  {
   "cell_type": "code",
   "execution_count": 7,
   "metadata": {},
   "outputs": [],
   "source": [
    "import numpy as np\n",
    "import pygame as pg"
   ]
  },
  {
   "cell_type": "code",
   "execution_count": 9,
   "metadata": {},
   "outputs": [],
   "source": [
    "MAXFPS = 60\n",
    "\n",
    "window = pg.display.set_mode((1280, 720))\n",
    "pg.display.set_caption(\"PIZZA\")\n",
    "clock = pg.time.Clock()\n",
    "\n",
    "t = 0\n",
    "run = True\n",
    "while run:\n",
    "    clock.tick(MAXFPS)\n",
    "\n",
    "    for event in pg.event.get():\n",
    "        if event.type == pg.QUIT:\n",
    "            run = False\n",
    "    \n",
    "    window.fill((0, 0, 0))\n",
    "\n",
    "    for x in range(12800):\n",
    "        y = np.sin(x/10+t/3)*64+365\n",
    "        pg.draw.circle(window, (255, 255, 255), (x, y), 1)\n",
    "    t += 1\n",
    "    pg.display.update()\n",
    "\n",
    "pg.quit()"
   ]
  }
 ],
 "metadata": {
  "kernelspec": {
   "display_name": ".venv",
   "language": "python",
   "name": "python3"
  },
  "language_info": {
   "codemirror_mode": {
    "name": "ipython",
    "version": 3
   },
   "file_extension": ".py",
   "mimetype": "text/x-python",
   "name": "python",
   "nbconvert_exporter": "python",
   "pygments_lexer": "ipython3",
   "version": "3.13.1"
  }
 },
 "nbformat": 4,
 "nbformat_minor": 2
}
